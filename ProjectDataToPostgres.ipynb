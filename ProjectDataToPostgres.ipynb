{
 "cells": [
  {
   "cell_type": "code",
   "execution_count": 1,
   "id": "81a82ca0",
   "metadata": {},
   "outputs": [],
   "source": [
    "import psycopg2\n",
    "from psycopg2.extensions import ISOLATION_LEVEL_AUTOCOMMIT"
   ]
  },
  {
   "cell_type": "code",
   "execution_count": 7,
   "id": "e289917c",
   "metadata": {},
   "outputs": [],
   "source": [
    "########################################\n",
    "# Update connection string information #\n",
    "########################################\n",
    "host = \"udacitypostgresass.postgres.database.azure.com\"#\"postgresbikeshare.postgres.database.azure.com\"\n",
    "user = \"postgresuser\"#\"postgresuser@postgresbikeshare\"\n",
    "password = \"atlasshrugged_138\""
   ]
  },
  {
   "cell_type": "code",
   "execution_count": 8,
   "id": "08f5d650",
   "metadata": {},
   "outputs": [
    {
     "name": "stdout",
     "output_type": "stream",
     "text": [
      "Connection established\n"
     ]
    }
   ],
   "source": [
    "# Create a new DB\n",
    "sslmode = \"require\"\n",
    "dbname = \"postgres\"\n",
    "conn_string = \"host={0} user={1} dbname={2} password={3} sslmode={4}\".format(host, user, dbname, password, sslmode)\n",
    "conn = psycopg2.connect(conn_string)\n",
    "conn.set_isolation_level(ISOLATION_LEVEL_AUTOCOMMIT);\n",
    "print(\"Connection established\")"
   ]
  },
  {
   "cell_type": "code",
   "execution_count": 9,
   "id": "820a839e",
   "metadata": {},
   "outputs": [],
   "source": [
    "cursor = conn.cursor()\n",
    "cursor.execute('DROP DATABASE IF EXISTS udacityproject')\n",
    "cursor.execute(\"CREATE DATABASE udacityproject\")\n",
    "# Clean up initial connection\n",
    "conn.commit()\n",
    "cursor.close()\n",
    "conn.close()"
   ]
  },
  {
   "cell_type": "code",
   "execution_count": 10,
   "id": "0f6d513a",
   "metadata": {},
   "outputs": [
    {
     "name": "stdout",
     "output_type": "stream",
     "text": [
      "Connection established\n"
     ]
    }
   ],
   "source": [
    "# Reconnect to the new DB\n",
    "dbname = \"udacityproject\"\n",
    "conn_string = \"host={0} user={1} dbname={2} password={3} sslmode={4}\".format(host, user, dbname, password, sslmode)\n",
    "conn = psycopg2.connect(conn_string)\n",
    "print(\"Connection established\")\n",
    "cursor = conn.cursor()"
   ]
  },
  {
   "cell_type": "code",
   "execution_count": 11,
   "id": "5e18cdf9",
   "metadata": {},
   "outputs": [],
   "source": [
    "# Helper functions\n",
    "def drop_recreate(c, tablename, create):\n",
    "    c.execute(\"DROP TABLE IF EXISTS {0};\".format(tablename))\n",
    "    c.execute(create)\n",
    "    print(\"Finished creating table {0}\".format(tablename))\n",
    "\n",
    "def populate_table(c, filename, tablename):\n",
    "    f = open(filename, 'r')\n",
    "    try:\n",
    "        cursor.copy_from(f, tablename, sep=\",\", null = \"\")\n",
    "        conn.commit()\n",
    "    except (Exception, psycopg2.DatabaseError) as error:\n",
    "        print(\"Error: %s\" % error)\n",
    "        conn.rollback()\n",
    "        cursor.close()\n",
    "    print(\"Finished populating {0}\".format(tablename))"
   ]
  },
  {
   "cell_type": "code",
   "execution_count": 12,
   "id": "256956b2",
   "metadata": {},
   "outputs": [
    {
     "name": "stdout",
     "output_type": "stream",
     "text": [
      "Finished creating table rider\n",
      "Finished populating rider\n"
     ]
    }
   ],
   "source": [
    "# Create Rider table\n",
    "table = \"rider\"\n",
    "filename = './data/riders.csv'\n",
    "create = \"CREATE TABLE rider (rider_id INTEGER PRIMARY KEY, first VARCHAR(50), last VARCHAR(50), address VARCHAR(100), birthday DATE, account_start_date DATE, account_end_date DATE, is_member BOOLEAN);\"\n",
    "\n",
    "drop_recreate(cursor, table, create)\n",
    "populate_table(cursor, filename, table)"
   ]
  },
  {
   "cell_type": "code",
   "execution_count": 13,
   "id": "92105c80",
   "metadata": {},
   "outputs": [
    {
     "name": "stdout",
     "output_type": "stream",
     "text": [
      "Finished creating table payment\n",
      "Finished populating payment\n"
     ]
    }
   ],
   "source": [
    "# Create Payment table\n",
    "table = \"payment\"\n",
    "filename = './data/payments.csv'\n",
    "create = \"CREATE TABLE payment (payment_id INTEGER PRIMARY KEY, date DATE, amount MONEY, rider_id INTEGER);\"\n",
    "\n",
    "drop_recreate(cursor, table, create)\n",
    "populate_table(cursor, filename, table)"
   ]
  },
  {
   "cell_type": "code",
   "execution_count": 14,
   "id": "8925a414",
   "metadata": {},
   "outputs": [
    {
     "name": "stdout",
     "output_type": "stream",
     "text": [
      "Finished creating table station\n",
      "Finished populating station\n"
     ]
    }
   ],
   "source": [
    "# Create Station table\n",
    "table = \"station\"\n",
    "filename = './data/stations.csv'\n",
    "create = \"CREATE TABLE station (station_id VARCHAR(50) PRIMARY KEY, name VARCHAR(75), latitude FLOAT, longitude FLOAT);\"\n",
    "\n",
    "drop_recreate(cursor, table, create)\n",
    "populate_table(cursor, filename, table)"
   ]
  },
  {
   "cell_type": "code",
   "execution_count": 15,
   "id": "5006642a",
   "metadata": {},
   "outputs": [
    {
     "name": "stdout",
     "output_type": "stream",
     "text": [
      "Finished creating table trip\n",
      "Finished populating trip\n"
     ]
    }
   ],
   "source": [
    "# Create Trip table\n",
    "table = \"trip\"\n",
    "filename = './data/trips.csv'\n",
    "create = \"CREATE TABLE trip (trip_id VARCHAR(50) PRIMARY KEY, rideable_type VARCHAR(75), start_at TIMESTAMP, ended_at TIMESTAMP, start_station_id VARCHAR(50), end_station_id VARCHAR(50), rider_id INTEGER);\"\n",
    "\n",
    "drop_recreate(cursor, table, create)\n",
    "populate_table(cursor, filename, table)"
   ]
  },
  {
   "cell_type": "code",
   "execution_count": 16,
   "id": "e18cadda",
   "metadata": {},
   "outputs": [
    {
     "name": "stdout",
     "output_type": "stream",
     "text": [
      "All done!\n"
     ]
    }
   ],
   "source": [
    "# Clean up\n",
    "conn.commit()\n",
    "cursor.close()\n",
    "conn.close()\n",
    "\n",
    "print(\"All done!\")"
   ]
  }
 ],
 "metadata": {
  "kernelspec": {
   "display_name": "Python 3 (ipykernel)",
   "language": "python",
   "name": "python3"
  },
  "language_info": {
   "codemirror_mode": {
    "name": "ipython",
    "version": 3
   },
   "file_extension": ".py",
   "mimetype": "text/x-python",
   "name": "python",
   "nbconvert_exporter": "python",
   "pygments_lexer": "ipython3",
   "version": "3.10.4"
  },
  "vscode": {
   "interpreter": {
    "hash": "369f2c481f4da34e4445cda3fffd2e751bd1c4d706f27375911949ba6bb62e1c"
   }
  }
 },
 "nbformat": 4,
 "nbformat_minor": 5
}
